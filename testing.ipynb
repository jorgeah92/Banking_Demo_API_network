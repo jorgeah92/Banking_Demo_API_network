{
 "cells": [
  {
   "cell_type": "code",
   "execution_count": 98,
   "metadata": {},
   "outputs": [],
   "source": [
    "from datetime import datetime, date \n",
    "import numpy as np \n",
    "import math"
   ]
  },
  {
   "cell_type": "code",
   "execution_count": 17,
   "metadata": {},
   "outputs": [
    {
     "data": {
      "text/plain": [
       "'2020-07-28'"
      ]
     },
     "execution_count": 17,
     "metadata": {},
     "output_type": "execute_result"
    }
   ],
   "source": [
    "datetime.today().strftime(\"%Y-%m-%d\")"
   ]
  },
  {
   "cell_type": "code",
   "execution_count": 101,
   "metadata": {},
   "outputs": [
    {
     "data": {
      "text/plain": [
       "2.718281828459045"
      ]
     },
     "execution_count": 101,
     "metadata": {},
     "output_type": "execute_result"
    }
   ],
   "source": [
    "2.718281828459045**(1)"
   ]
  },
  {
   "cell_type": "code",
   "execution_count": 99,
   "metadata": {},
   "outputs": [
    {
     "data": {
      "text/plain": [
       "2.718281828459045"
      ]
     },
     "execution_count": 99,
     "metadata": {},
     "output_type": "execute_result"
    }
   ],
   "source": [
    "np.exp(1)"
   ]
  },
  {
   "cell_type": "code",
   "execution_count": 14,
   "metadata": {},
   "outputs": [
    {
     "ename": "AttributeError",
     "evalue": "type object 'datetime.date' has no attribute 'strptime'",
     "output_type": "error",
     "traceback": [
      "\u001b[0;31m---------------------------------------------------------------------------\u001b[0m",
      "\u001b[0;31mAttributeError\u001b[0m                            Traceback (most recent call last)",
      "\u001b[0;32m<ipython-input-14-3a39e2e0ea2c>\u001b[0m in \u001b[0;36m<module>\u001b[0;34m\u001b[0m\n\u001b[1;32m      1\u001b[0m \u001b[0mdate_time_str\u001b[0m \u001b[0;34m=\u001b[0m \u001b[0;34m'2020-07-28'\u001b[0m\u001b[0;34m\u001b[0m\u001b[0;34m\u001b[0m\u001b[0m\n\u001b[1;32m      2\u001b[0m \u001b[0;34m\u001b[0m\u001b[0m\n\u001b[0;32m----> 3\u001b[0;31m \u001b[0mdate\u001b[0m\u001b[0;34m.\u001b[0m\u001b[0mstrptime\u001b[0m\u001b[0;34m(\u001b[0m\u001b[0mdate_time_str\u001b[0m\u001b[0;34m,\u001b[0m \u001b[0;34m'%Y-%m-%d'\u001b[0m\u001b[0;34m)\u001b[0m\u001b[0;34m\u001b[0m\u001b[0;34m\u001b[0m\u001b[0m\n\u001b[0m",
      "\u001b[0;31mAttributeError\u001b[0m: type object 'datetime.date' has no attribute 'strptime'"
     ]
    }
   ],
   "source": [
    "date_time_str = '2020-07-28'\n",
    "\n",
    "datetime.strptime(date_time_str, '%Y-%m-%d')"
   ]
  },
  {
   "cell_type": "code",
   "execution_count": 59,
   "metadata": {},
   "outputs": [
    {
     "name": "stdout",
     "output_type": "stream",
     "text": [
      "[1, 2]\n",
      "1\n"
     ]
    }
   ],
   "source": [
    "a_dictionary = {\"a\": 1, \"b\": 2}\n",
    "\n",
    "values = a_dictionary.values()\n",
    "values_list = list(values)\n",
    "print(values_list)\n",
    "a_value = values_list[0]\n",
    "\n",
    "print(a_value)"
   ]
  },
  {
   "cell_type": "code",
   "execution_count": 60,
   "metadata": {},
   "outputs": [
    {
     "data": {
      "text/plain": [
       "1"
      ]
     },
     "execution_count": 60,
     "metadata": {},
     "output_type": "execute_result"
    }
   ],
   "source": [
    "x = [{\"a\": 1, \"b\": 2}, {\"a\": 3, \"b\": 2}]\n",
    "x.index([i for i in x if i['a'] == 3][0])"
   ]
  },
  {
   "cell_type": "code",
   "execution_count": 61,
   "metadata": {},
   "outputs": [
    {
     "name": "stdout",
     "output_type": "stream",
     "text": [
      "Today's date: 2020-07-28\n"
     ]
    }
   ],
   "source": [
    "from datetime import date\n",
    "\n",
    "today = date.today()\n",
    "print(\"Today's date:\", today)"
   ]
  },
  {
   "cell_type": "code",
   "execution_count": 62,
   "metadata": {},
   "outputs": [
    {
     "name": "stdout",
     "output_type": "stream",
     "text": [
      "9\n"
     ]
    }
   ],
   "source": [
    "f_date = date(2014, 7, 2)\n",
    "l_date = date(2014, 7, 11)\n",
    "delta = l_date - f_date\n",
    "print(delta.days)"
   ]
  },
  {
   "cell_type": "code",
   "execution_count": 102,
   "metadata": {},
   "outputs": [],
   "source": [
    "assets = [\n",
    "    {\n",
    "        'asset_name': 'stock_a',\n",
    "        'asset_type' : 'stock', \n",
    "        'price': 5, \n",
    "        'as_of' : '2020-01-01'\n",
    "    },\n",
    "    {\n",
    "        'asset_name': 'bond_a',\n",
    "        'asset_type' : 'bond', \n",
    "        'price': 5, \n",
    "        'as_of' : '2020-01-01'\n",
    "    }, \n",
    "    {\n",
    "        'asset_name': 'cash',\n",
    "        'asset_type' : 'cash', \n",
    "        'price': 1, \n",
    "        'as_of' : '2020-01-01'\n",
    "    }\n",
    "]"
   ]
  },
  {
   "cell_type": "code",
   "execution_count": 88,
   "metadata": {},
   "outputs": [],
   "source": [
    "accounts = [\n",
    "    {\n",
    "        'full_name': 'Preethi Raju', \n",
    "        'user_id': 'praju', \n",
    "        'total_value': 200, \n",
    "        'original_value' : 200, \n",
    "        'as_of' : '2020-07-18', \n",
    "        'transactions' : \n",
    "        [\n",
    "            {\n",
    "                'asset_name': 'cash',\n",
    "                'asset_type' : 'cash', \n",
    "                'number_of' : 100,\n",
    "                'original_value' : 100,\n",
    "                'transaction_date': '2020-01-01', \n",
    "                'current_value' : 100\n",
    "            }, \n",
    "            {\n",
    "                'asset_name': 'stock_a',\n",
    "                'asset_type' : 'stock', \n",
    "                'number_of' : 20,\n",
    "                'original_value' : 100,\n",
    "                'transaction_date': '2020-01-01', \n",
    "                'current_value' : 100\n",
    "            }\n",
    "        ]\n",
    "    }\n",
    "]\n",
    "\n"
   ]
  },
  {
   "cell_type": "code",
   "execution_count": 103,
   "metadata": {},
   "outputs": [
    {
     "data": {
      "text/plain": [
       "0"
      ]
     },
     "execution_count": 103,
     "metadata": {},
     "output_type": "execute_result"
    }
   ],
   "source": [
    "x = accounts[0]\n",
    "accounts.index(x)"
   ]
  },
  {
   "cell_type": "code",
   "execution_count": 91,
   "metadata": {},
   "outputs": [],
   "source": [
    "class AssetValue: \n",
    "    \n",
    "    def __init__(self): \n",
    "        self.today = datetime.today() \n",
    "        self.today_str = self.today.strftime(\"%Y-%m-%d\")\n",
    "    \n",
    "    def asset_new_value(self, asset_name, asset_type, original_date, original_price):\n",
    "        t = self.today - datetime.strptime(original_date, '%Y-%m-%d')\n",
    "        delta = t.days\n",
    "        if asset_type == 'stock': \n",
    "            r = 0.1\n",
    "        elif asset_type == 'bond': \n",
    "            r = 0.04\n",
    "        elif asset_type == 'cash': \n",
    "            r = 0 \n",
    "        else: \n",
    "            return 'Please enter correct asset type.'\n",
    "        new_value = original_price * math.exp(r * (delta / 365))\n",
    "        return new_value  \n",
    "    \n",
    "    def update_asset_price(self): \n",
    "        if assets[0]['as_of']!= self.today_str: \n",
    "            print('updating asset values')\n",
    "            for n, i in enumerate(assets): \n",
    "                original = i \n",
    "                new = original.copy()\n",
    "                new['price']  = self.asset_new_value(original['asset_name'], original['asset_type'], \n",
    "                                                     original['as_of'], original['price'])\n",
    "                new['as_of'] = self.today_str\n",
    "                assets[n] = new \n",
    "        return 'Asset value updated' \n",
    "    \n",
    "    def update_account_value(self, full_name, user_id): \n",
    "        self.update_asset_price()\n",
    "        original_account = [i for i in accounts if full_name == i['full_name'] and user_id == i['user_id']][0]\n",
    "        new_account = original_account.copy()\n",
    "        for i in new_account['transactions']: \n",
    "            asset_value = [a for a in assets if i['asset_name'] == a['asset_name'] and i['asset_type'] == a['asset_type']][0]['price']\n",
    "            i['current_value'] = round(i['number_of'] * asset_value,2)\n",
    "        new_account['as_of'] = self.today_str\n",
    "        new_account['original_value'] = round(sum([i['original_value'] for i in new_account['transactions']]),2)\n",
    "        new_account['total_value'] = round(sum([i['current_value'] for i in new_account['transactions']]),2)\n",
    "        accounts[accounts.index(original_account)] = new_account\n",
    "        return 'Account value updated' \n",
    "    "
   ]
  },
  {
   "cell_type": "code",
   "execution_count": 93,
   "metadata": {},
   "outputs": [
    {
     "data": {
      "text/plain": [
       "[{'full_name': 'Preethi Raju',\n",
       "  'user_id': 'praju',\n",
       "  'total_value': 205.89,\n",
       "  'original_value': 200,\n",
       "  'as_of': '2020-07-28',\n",
       "  'transactions': [{'asset_name': 'cash',\n",
       "    'asset_type': 'cash',\n",
       "    'number_of': 100,\n",
       "    'original_value': 100,\n",
       "    'transaction_date': '2020-01-01',\n",
       "    'current_value': 100.0},\n",
       "   {'asset_name': 'stock_a',\n",
       "    'asset_type': 'stock',\n",
       "    'number_of': 20,\n",
       "    'original_value': 100,\n",
       "    'transaction_date': '2020-01-01',\n",
       "    'current_value': 105.89}]}]"
      ]
     },
     "execution_count": 93,
     "metadata": {},
     "output_type": "execute_result"
    }
   ],
   "source": [
    "AssetValue().update_account_value('Preethi Raju', 'praju')\n",
    "accounts"
   ]
  },
  {
   "cell_type": "code",
   "execution_count": 47,
   "metadata": {},
   "outputs": [
    {
     "data": {
      "text/plain": [
       "[{'asset_name': 'stock_a',\n",
       "  'asset_type': 'stock',\n",
       "  'price': 5.294656934050096,\n",
       "  'as_of': '2020-07-28'},\n",
       " {'asset_name': 'bond_a',\n",
       "  'asset_type': 'bond',\n",
       "  'price': 5.115842114012612,\n",
       "  'as_of': '2020-07-28'},\n",
       " {'asset_name': 'cash',\n",
       "  'asset_type': 'cash',\n",
       "  'price': 1.0,\n",
       "  'as_of': '2020-07-28'}]"
      ]
     },
     "execution_count": 47,
     "metadata": {},
     "output_type": "execute_result"
    }
   ],
   "source": [
    "AssetValue().update_asset_price()"
   ]
  },
  {
   "cell_type": "code",
   "execution_count": 96,
   "metadata": {},
   "outputs": [
    {
     "data": {
      "text/plain": [
       "5.525854590378239"
      ]
     },
     "execution_count": 96,
     "metadata": {},
     "output_type": "execute_result"
    }
   ],
   "source": [
    "AssetValue().asset_new_value('stock_a', 'stock', '2019-07-29', 5) "
   ]
  },
  {
   "cell_type": "code",
   "execution_count": 97,
   "metadata": {},
   "outputs": [
    {
     "name": "stdout",
     "output_type": "stream",
     "text": [
      "5.294656934050096\n"
     ]
    }
   ],
   "source": [
    "print(5 * math.exp(0.1 * (209 / 365)))"
   ]
  },
  {
   "cell_type": "code",
   "execution_count": null,
   "metadata": {},
   "outputs": [],
   "source": []
  },
  {
   "cell_type": "code",
   "execution_count": 94,
   "metadata": {},
   "outputs": [],
   "source": [
    "assets = [\n",
    "    {\n",
    "        'asset_name': 'stock_a',\n",
    "        'asset_type' : 'stock', \n",
    "        'price': 5, \n",
    "        'as_of' : '2020-01-01'\n",
    "    },\n",
    "    {\n",
    "        'asset_name': 'bond_a',\n",
    "        'asset_type' : 'bond', \n",
    "        'price': 5, \n",
    "        'as_of' : '2020-01-01'\n",
    "    }, \n",
    "    {\n",
    "        'asset_name': 'cash',\n",
    "        'asset_type' : 'cash', \n",
    "        'price': 1, \n",
    "        'as_of' : '2020-01-01'\n",
    "    }\n",
    "]\n",
    "\n",
    "accounts = [\n",
    "    {\n",
    "        'full_name': 'Preethi Raju', \n",
    "        'user_id': 'praju', \n",
    "        'total_value': 200, \n",
    "        'original_value' : 200, \n",
    "        'as_of' : '2020-07-18', \n",
    "        'transactions' : \n",
    "        [\n",
    "            {\n",
    "                'asset_name': 'cash',\n",
    "                'asset_type' : 'cash', \n",
    "                'number_of' : 100,\n",
    "                'original_value' : 100,\n",
    "                'transaction_date': '2020-01-01', \n",
    "                'current_value' : 100\n",
    "            }, \n",
    "            {\n",
    "                'asset_name': 'stock_a',\n",
    "                'asset_type' : 'stock', \n",
    "                'number_of' : 20,\n",
    "                'original_value' : 100,\n",
    "                'transaction_date': '2020-01-01', \n",
    "                'current_value' : 100\n",
    "            }\n",
    "        ]\n",
    "    }\n",
    "]\n",
    "\n",
    "##### HELPER FUNCTIONS #####\n",
    "\n",
    "class AssetValue: \n",
    "    \n",
    "    def __init__(self): \n",
    "        self.today = datetime.today() \n",
    "        self.today_str = self.today.strftime(\"%Y-%m-%d\")\n",
    "    \n",
    "    def asset_new_value(self, asset_name, asset_type, original_date, original_price):\n",
    "        t = self.today - datetime.strptime(original_date, '%Y-%m-%d')\n",
    "        delta = t.days\n",
    "        if asset_type == 'stock': \n",
    "            r = 0.1\n",
    "        elif asset_type == 'bond': \n",
    "            r = 0.04\n",
    "        elif asset_type == 'cash': \n",
    "            r = 0 \n",
    "        else: \n",
    "            return 'Please enter correct asset type.'\n",
    "        new_value = original_price * math.exp(r * (delta / 365))\n",
    "        return new_value  \n",
    "    \n",
    "    def update_asset_price(self): \n",
    "        if assets[0]['as_of']!= self.today_str: \n",
    "            print('updating asset values')\n",
    "            for n, i in enumerate(assets): \n",
    "                original = i \n",
    "                new = original.copy()\n",
    "                new['price']  = self.asset_new_value(original['asset_name'], original['asset_type'], \n",
    "                                                     original['as_of'], original['price'])\n",
    "                new['as_of'] = self.today_str\n",
    "                assets[n] = new \n",
    "        return 'Asset value updated' \n",
    "    \n",
    "    def update_account_value(self, user_id): \n",
    "        self.update_asset_price()\n",
    "        original_account = [i for i in accounts if user_id == i['user_id']][0]\n",
    "        new_account = original_account.copy()\n",
    "        for i in new_account['transactions']: \n",
    "            asset_value = [a for a in assets if i['asset_name'] == a['asset_name']][0]['price']\n",
    "            i['current_value'] = round(i['number_of'] * asset_value,2)\n",
    "        new_account['as_of'] = self.today_str\n",
    "        new_account['original_value'] = round(sum([i['original_value'] for i in new_account['transactions']]),2)\n",
    "        new_account['total_value'] = round(sum([i['current_value'] for i in new_account['transactions']]),2)\n",
    "        accounts[accounts.index(original_account)] = new_account\n",
    "        return new_account\n",
    "    \n"
   ]
  },
  {
   "cell_type": "code",
   "execution_count": 95,
   "metadata": {},
   "outputs": [
    {
     "name": "stdout",
     "output_type": "stream",
     "text": [
      "updating asset values\n",
      "{'full_name': 'Preethi Raju', 'user_id': 'praju', 'total_value': 205.89, 'original_value': 200, 'as_of': '2020-07-28', 'transactions': [{'asset_name': 'cash', 'asset_type': 'cash', 'number_of': 100, 'original_value': 100, 'transaction_date': '2020-01-01', 'current_value': 100.0}, {'asset_name': 'stock_a', 'asset_type': 'stock', 'number_of': 20, 'original_value': 100, 'transaction_date': '2020-01-01', 'current_value': 105.89}]}\n"
     ]
    },
    {
     "data": {
      "text/plain": [
       "{'full_name': 'Preethi Raju',\n",
       " 'user_id': 'praju',\n",
       " 'total_value': 205.89,\n",
       " 'original_value': 200,\n",
       " 'as_of': '2020-07-28',\n",
       " 'transactions': [{'asset_name': 'cash',\n",
       "   'asset_type': 'cash',\n",
       "   'number_of': 100,\n",
       "   'original_value': 100,\n",
       "   'transaction_date': '2020-01-01',\n",
       "   'current_value': 100.0},\n",
       "  {'asset_name': 'stock_a',\n",
       "   'asset_type': 'stock',\n",
       "   'number_of': 20,\n",
       "   'original_value': 100,\n",
       "   'transaction_date': '2020-01-01',\n",
       "   'current_value': 105.89}]}"
      ]
     },
     "execution_count": 95,
     "metadata": {},
     "output_type": "execute_result"
    }
   ],
   "source": [
    "AssetValue().update_account_value('praju')"
   ]
  },
  {
   "cell_type": "code",
   "execution_count": null,
   "metadata": {},
   "outputs": [],
   "source": []
  }
 ],
 "metadata": {
  "environment": {
   "name": "tf-gpu.1-15.m50",
   "type": "gcloud",
   "uri": "gcr.io/deeplearning-platform-release/tf-gpu.1-15:m50"
  },
  "kernelspec": {
   "display_name": "Python 3",
   "language": "python",
   "name": "python3"
  },
  "language_info": {
   "codemirror_mode": {
    "name": "ipython",
    "version": 3
   },
   "file_extension": ".py",
   "mimetype": "text/x-python",
   "name": "python",
   "nbconvert_exporter": "python",
   "pygments_lexer": "ipython3",
   "version": "3.7.6"
  }
 },
 "nbformat": 4,
 "nbformat_minor": 4
}
